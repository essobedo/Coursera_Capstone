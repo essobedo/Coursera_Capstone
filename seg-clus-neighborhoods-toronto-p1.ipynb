{
    "nbformat_minor": 1, 
    "cells": [
        {
            "source": "<h1>Segmenting and Clustering Neighborhoods in Toronto: Part 1</h1>", 
            "cell_type": "markdown", 
            "metadata": {}
        }, 
        {
            "source": "Prepare the data frame", 
            "cell_type": "markdown", 
            "metadata": {}
        }, 
        {
            "execution_count": 102, 
            "cell_type": "code", 
            "metadata": {}, 
            "outputs": [], 
            "source": "import pandas as pd # library for data analsysis\n# define the dataframe columns\ncolumn_names = ['Postcode', 'Borough', 'Neighborhood'] \n\n# instantiate the dataframe\nneighborhoods = pd.DataFrame(columns=column_names)"
        }, 
        {
            "source": "First parse the HTML content with BeautifulSoup", 
            "cell_type": "markdown", 
            "metadata": {}
        }, 
        {
            "execution_count": 103, 
            "cell_type": "code", 
            "metadata": {}, 
            "outputs": [], 
            "source": "from bs4 import BeautifulSoup\nfrom urllib.request import urlopen\n\nsoup = BeautifulSoup(urlopen('https://en.wikipedia.org/wiki/List_of_postal_codes_of_Canada:_M').read(), \"html.parser\")"
        }, 
        {
            "source": "Retrieve all tr tags that contain the information about Neighborhoods in Toronto and create the dataframe from them", 
            "cell_type": "markdown", 
            "metadata": {}
        }, 
        {
            "execution_count": 104, 
            "cell_type": "code", 
            "metadata": {}, 
            "outputs": [
                {
                    "execution_count": 104, 
                    "metadata": {}, 
                    "data": {
                        "text/html": "<div>\n<style scoped>\n    .dataframe tbody tr th:only-of-type {\n        vertical-align: middle;\n    }\n\n    .dataframe tbody tr th {\n        vertical-align: top;\n    }\n\n    .dataframe thead th {\n        text-align: right;\n    }\n</style>\n<table border=\"1\" class=\"dataframe\">\n  <thead>\n    <tr style=\"text-align: right;\">\n      <th></th>\n      <th>Postcode</th>\n      <th>Borough</th>\n      <th>Neighborhood</th>\n    </tr>\n  </thead>\n  <tbody>\n    <tr>\n      <th>0</th>\n      <td>M1A</td>\n      <td>Not assigned</td>\n      <td>Not assigned</td>\n    </tr>\n    <tr>\n      <th>1</th>\n      <td>M2A</td>\n      <td>Not assigned</td>\n      <td>Not assigned</td>\n    </tr>\n    <tr>\n      <th>2</th>\n      <td>M3A</td>\n      <td>North York</td>\n      <td>Parkwoods</td>\n    </tr>\n    <tr>\n      <th>3</th>\n      <td>M4A</td>\n      <td>North York</td>\n      <td>Victoria Village</td>\n    </tr>\n    <tr>\n      <th>4</th>\n      <td>M5A</td>\n      <td>Downtown Toronto</td>\n      <td>Harbourfront</td>\n    </tr>\n  </tbody>\n</table>\n</div>", 
                        "text/plain": "  Postcode           Borough      Neighborhood\n0      M1A      Not assigned      Not assigned\n1      M2A      Not assigned      Not assigned\n2      M3A        North York         Parkwoods\n3      M4A        North York  Victoria Village\n4      M5A  Downtown Toronto      Harbourfront"
                    }, 
                    "output_type": "execute_result"
                }
            ], 
            "source": "for row in soup.select(\"table[class='wikitable sortable'] tr\"):\n    if len(row.select(\"td:nth-of-type(1)\")) == 0:\n        continue\n    if len(row.select(\"td:nth-of-type(2)\")) == 0:\n        continue\n    if len(row.select(\"td:nth-of-type(3)\")) == 0:\n        continue\n    postcode = row.select(\"td:nth-of-type(1)\")[0].string\n    borough = row.select(\"td:nth-of-type(2)\")[0].string\n    if borough is None:\n        borough = row.select(\"td:nth-of-type(2) a\")[0].string\n    neighborhood = row.select(\"td:nth-of-type(3)\")[0].string\n    if neighborhood is None:\n        neighborhood = row.select(\"td:nth-of-type(3) a\")[0].string\n    \n    neighborhoods = neighborhoods.append({'Postcode': postcode.strip(),\n                                          'Borough': borough.strip(),\n                                          'Neighborhood': neighborhood.strip()}, ignore_index=True)\n\nneighborhoods.head()"
        }, 
        {
            "source": "Check the initial shape of the data frame", 
            "cell_type": "markdown", 
            "metadata": {}
        }, 
        {
            "execution_count": 105, 
            "cell_type": "code", 
            "metadata": {}, 
            "outputs": [
                {
                    "execution_count": 105, 
                    "metadata": {}, 
                    "data": {
                        "text/plain": "(288, 3)"
                    }, 
                    "output_type": "execute_result"
                }
            ], 
            "source": "neighborhoods.shape"
        }, 
        {
            "source": "Drop cells with a borough that is Not assigned", 
            "cell_type": "markdown", 
            "metadata": {}
        }, 
        {
            "execution_count": 106, 
            "cell_type": "code", 
            "metadata": {}, 
            "outputs": [
                {
                    "execution_count": 106, 
                    "metadata": {}, 
                    "data": {
                        "text/html": "<div>\n<style scoped>\n    .dataframe tbody tr th:only-of-type {\n        vertical-align: middle;\n    }\n\n    .dataframe tbody tr th {\n        vertical-align: top;\n    }\n\n    .dataframe thead th {\n        text-align: right;\n    }\n</style>\n<table border=\"1\" class=\"dataframe\">\n  <thead>\n    <tr style=\"text-align: right;\">\n      <th></th>\n      <th>Postcode</th>\n      <th>Borough</th>\n      <th>Neighborhood</th>\n    </tr>\n  </thead>\n  <tbody>\n    <tr>\n      <th>2</th>\n      <td>M3A</td>\n      <td>North York</td>\n      <td>Parkwoods</td>\n    </tr>\n    <tr>\n      <th>3</th>\n      <td>M4A</td>\n      <td>North York</td>\n      <td>Victoria Village</td>\n    </tr>\n    <tr>\n      <th>4</th>\n      <td>M5A</td>\n      <td>Downtown Toronto</td>\n      <td>Harbourfront</td>\n    </tr>\n    <tr>\n      <th>5</th>\n      <td>M5A</td>\n      <td>Downtown Toronto</td>\n      <td>Regent Park</td>\n    </tr>\n    <tr>\n      <th>6</th>\n      <td>M6A</td>\n      <td>North York</td>\n      <td>Lawrence Heights</td>\n    </tr>\n  </tbody>\n</table>\n</div>", 
                        "text/plain": "  Postcode           Borough      Neighborhood\n2      M3A        North York         Parkwoods\n3      M4A        North York  Victoria Village\n4      M5A  Downtown Toronto      Harbourfront\n5      M5A  Downtown Toronto       Regent Park\n6      M6A        North York  Lawrence Heights"
                    }, 
                    "output_type": "execute_result"
                }
            ], 
            "source": "neighborhoods = neighborhoods[neighborhoods['Borough'] != 'Not assigned']\nneighborhoods.head()"
        }, 
        {
            "source": "To be able to combine rows with the same Postcode, we first group by Postcode and Borough", 
            "cell_type": "markdown", 
            "metadata": {}
        }, 
        {
            "execution_count": 121, 
            "cell_type": "code", 
            "metadata": {}, 
            "outputs": [
                {
                    "execution_count": 121, 
                    "metadata": {}, 
                    "data": {
                        "text/html": "<div>\n<style scoped>\n    .dataframe tbody tr th:only-of-type {\n        vertical-align: middle;\n    }\n\n    .dataframe tbody tr th {\n        vertical-align: top;\n    }\n\n    .dataframe thead th {\n        text-align: right;\n    }\n</style>\n<table border=\"1\" class=\"dataframe\">\n  <thead>\n    <tr style=\"text-align: right;\">\n      <th></th>\n      <th>Postcode</th>\n      <th>Borough</th>\n      <th>Neighborhood</th>\n    </tr>\n  </thead>\n  <tbody>\n    <tr>\n      <th>2</th>\n      <td>M3A</td>\n      <td>North York</td>\n      <td>Parkwoods</td>\n    </tr>\n    <tr>\n      <th>3</th>\n      <td>M4A</td>\n      <td>North York</td>\n      <td>Victoria Village</td>\n    </tr>\n    <tr>\n      <th>4</th>\n      <td>M5A</td>\n      <td>Downtown Toronto</td>\n      <td>Harbourfront</td>\n    </tr>\n    <tr>\n      <th>5</th>\n      <td>M5A</td>\n      <td>Downtown Toronto</td>\n      <td>Regent Park</td>\n    </tr>\n    <tr>\n      <th>6</th>\n      <td>M6A</td>\n      <td>North York</td>\n      <td>Lawrence Heights</td>\n    </tr>\n    <tr>\n      <th>7</th>\n      <td>M6A</td>\n      <td>North York</td>\n      <td>Lawrence Manor</td>\n    </tr>\n    <tr>\n      <th>8</th>\n      <td>M7A</td>\n      <td>Queen's Park</td>\n      <td>Not assigned</td>\n    </tr>\n    <tr>\n      <th>10</th>\n      <td>M9A</td>\n      <td>Etobicoke</td>\n      <td>Islington Avenue</td>\n    </tr>\n    <tr>\n      <th>11</th>\n      <td>M1B</td>\n      <td>Scarborough</td>\n      <td>Rouge</td>\n    </tr>\n    <tr>\n      <th>12</th>\n      <td>M1B</td>\n      <td>Scarborough</td>\n      <td>Malvern</td>\n    </tr>\n    <tr>\n      <th>14</th>\n      <td>M3B</td>\n      <td>North York</td>\n      <td>Don Mills North</td>\n    </tr>\n    <tr>\n      <th>15</th>\n      <td>M4B</td>\n      <td>East York</td>\n      <td>Woodbine Gardens</td>\n    </tr>\n    <tr>\n      <th>16</th>\n      <td>M4B</td>\n      <td>East York</td>\n      <td>Parkview Hill</td>\n    </tr>\n    <tr>\n      <th>17</th>\n      <td>M5B</td>\n      <td>Downtown Toronto</td>\n      <td>Ryerson</td>\n    </tr>\n    <tr>\n      <th>18</th>\n      <td>M5B</td>\n      <td>Downtown Toronto</td>\n      <td>Garden District</td>\n    </tr>\n    <tr>\n      <th>19</th>\n      <td>M6B</td>\n      <td>North York</td>\n      <td>Glencairn</td>\n    </tr>\n    <tr>\n      <th>22</th>\n      <td>M9B</td>\n      <td>Etobicoke</td>\n      <td>Cloverdale</td>\n    </tr>\n    <tr>\n      <th>23</th>\n      <td>M9B</td>\n      <td>Etobicoke</td>\n      <td>Islington</td>\n    </tr>\n    <tr>\n      <th>24</th>\n      <td>M9B</td>\n      <td>Etobicoke</td>\n      <td>Martin Grove</td>\n    </tr>\n    <tr>\n      <th>25</th>\n      <td>M9B</td>\n      <td>Etobicoke</td>\n      <td>Princess Gardens</td>\n    </tr>\n    <tr>\n      <th>26</th>\n      <td>M9B</td>\n      <td>Etobicoke</td>\n      <td>West Deane Park</td>\n    </tr>\n    <tr>\n      <th>27</th>\n      <td>M1C</td>\n      <td>Scarborough</td>\n      <td>Highland Creek</td>\n    </tr>\n    <tr>\n      <th>28</th>\n      <td>M1C</td>\n      <td>Scarborough</td>\n      <td>Rouge Hill</td>\n    </tr>\n    <tr>\n      <th>29</th>\n      <td>M1C</td>\n      <td>Scarborough</td>\n      <td>Port Union</td>\n    </tr>\n    <tr>\n      <th>31</th>\n      <td>M3C</td>\n      <td>North York</td>\n      <td>Flemingdon Park</td>\n    </tr>\n    <tr>\n      <th>32</th>\n      <td>M3C</td>\n      <td>North York</td>\n      <td>Don Mills South</td>\n    </tr>\n    <tr>\n      <th>33</th>\n      <td>M4C</td>\n      <td>East York</td>\n      <td>Woodbine Heights</td>\n    </tr>\n    <tr>\n      <th>34</th>\n      <td>M5C</td>\n      <td>Downtown Toronto</td>\n      <td>St. James Town</td>\n    </tr>\n    <tr>\n      <th>35</th>\n      <td>M6C</td>\n      <td>York</td>\n      <td>Humewood-Cedarvale</td>\n    </tr>\n    <tr>\n      <th>38</th>\n      <td>M9C</td>\n      <td>Etobicoke</td>\n      <td>Bloordale Gardens</td>\n    </tr>\n    <tr>\n      <th>...</th>\n      <td>...</td>\n      <td>...</td>\n      <td>...</td>\n    </tr>\n    <tr>\n      <th>229</th>\n      <td>M9V</td>\n      <td>Etobicoke</td>\n      <td>Beaumond Heights</td>\n    </tr>\n    <tr>\n      <th>230</th>\n      <td>M9V</td>\n      <td>Etobicoke</td>\n      <td>Humbergate</td>\n    </tr>\n    <tr>\n      <th>231</th>\n      <td>M9V</td>\n      <td>Etobicoke</td>\n      <td>Jamestown</td>\n    </tr>\n    <tr>\n      <th>232</th>\n      <td>M9V</td>\n      <td>Etobicoke</td>\n      <td>Mount Olive</td>\n    </tr>\n    <tr>\n      <th>236</th>\n      <td>M1W</td>\n      <td>Scarborough</td>\n      <td>L'Amoreaux West</td>\n    </tr>\n    <tr>\n      <th>239</th>\n      <td>M4W</td>\n      <td>Downtown Toronto</td>\n      <td>Rosedale</td>\n    </tr>\n    <tr>\n      <th>240</th>\n      <td>M5W</td>\n      <td>Downtown Toronto</td>\n      <td>Stn A PO Boxes 25 The Esplanade</td>\n    </tr>\n    <tr>\n      <th>243</th>\n      <td>M8W</td>\n      <td>Etobicoke</td>\n      <td>Alderwood</td>\n    </tr>\n    <tr>\n      <th>244</th>\n      <td>M8W</td>\n      <td>Etobicoke</td>\n      <td>Long Branch</td>\n    </tr>\n    <tr>\n      <th>245</th>\n      <td>M9W</td>\n      <td>Etobicoke</td>\n      <td>Northwest</td>\n    </tr>\n    <tr>\n      <th>246</th>\n      <td>M1X</td>\n      <td>Scarborough</td>\n      <td>Upper Rouge</td>\n    </tr>\n    <tr>\n      <th>249</th>\n      <td>M4X</td>\n      <td>Downtown Toronto</td>\n      <td>Cabbagetown</td>\n    </tr>\n    <tr>\n      <th>250</th>\n      <td>M4X</td>\n      <td>Downtown Toronto</td>\n      <td>St. James Town</td>\n    </tr>\n    <tr>\n      <th>251</th>\n      <td>M5X</td>\n      <td>Downtown Toronto</td>\n      <td>First Canadian Place</td>\n    </tr>\n    <tr>\n      <th>252</th>\n      <td>M5X</td>\n      <td>Downtown Toronto</td>\n      <td>Underground city</td>\n    </tr>\n    <tr>\n      <th>255</th>\n      <td>M8X</td>\n      <td>Etobicoke</td>\n      <td>The Kingsway</td>\n    </tr>\n    <tr>\n      <th>256</th>\n      <td>M8X</td>\n      <td>Etobicoke</td>\n      <td>Montgomery Road</td>\n    </tr>\n    <tr>\n      <th>257</th>\n      <td>M8X</td>\n      <td>Etobicoke</td>\n      <td>Old Mill North</td>\n    </tr>\n    <tr>\n      <th>262</th>\n      <td>M4Y</td>\n      <td>Downtown Toronto</td>\n      <td>Church and Wellesley</td>\n    </tr>\n    <tr>\n      <th>265</th>\n      <td>M7Y</td>\n      <td>East Toronto</td>\n      <td>Business Reply Mail Processing Centre 969 Eastern</td>\n    </tr>\n    <tr>\n      <th>266</th>\n      <td>M8Y</td>\n      <td>Etobicoke</td>\n      <td>Humber Bay</td>\n    </tr>\n    <tr>\n      <th>267</th>\n      <td>M8Y</td>\n      <td>Etobicoke</td>\n      <td>King's Mill Park</td>\n    </tr>\n    <tr>\n      <th>268</th>\n      <td>M8Y</td>\n      <td>Etobicoke</td>\n      <td>Kingsway Park South East</td>\n    </tr>\n    <tr>\n      <th>269</th>\n      <td>M8Y</td>\n      <td>Etobicoke</td>\n      <td>Mimico NE</td>\n    </tr>\n    <tr>\n      <th>270</th>\n      <td>M8Y</td>\n      <td>Etobicoke</td>\n      <td>Old Mill South</td>\n    </tr>\n    <tr>\n      <th>282</th>\n      <td>M8Z</td>\n      <td>Etobicoke</td>\n      <td>Kingsway Park South West</td>\n    </tr>\n    <tr>\n      <th>283</th>\n      <td>M8Z</td>\n      <td>Etobicoke</td>\n      <td>Mimico NW</td>\n    </tr>\n    <tr>\n      <th>284</th>\n      <td>M8Z</td>\n      <td>Etobicoke</td>\n      <td>The Queensway West</td>\n    </tr>\n    <tr>\n      <th>285</th>\n      <td>M8Z</td>\n      <td>Etobicoke</td>\n      <td>Royal York South West</td>\n    </tr>\n    <tr>\n      <th>286</th>\n      <td>M8Z</td>\n      <td>Etobicoke</td>\n      <td>South of Bloor</td>\n    </tr>\n  </tbody>\n</table>\n<p>203 rows \u00d7 3 columns</p>\n</div>", 
                        "text/plain": "    Postcode           Borough  \\\n2        M3A        North York   \n3        M4A        North York   \n4        M5A  Downtown Toronto   \n5        M5A  Downtown Toronto   \n6        M6A        North York   \n7        M6A        North York   \n8        M7A      Queen's Park   \n10       M9A         Etobicoke   \n11       M1B       Scarborough   \n12       M1B       Scarborough   \n14       M3B        North York   \n15       M4B         East York   \n16       M4B         East York   \n17       M5B  Downtown Toronto   \n18       M5B  Downtown Toronto   \n19       M6B        North York   \n22       M9B         Etobicoke   \n23       M9B         Etobicoke   \n24       M9B         Etobicoke   \n25       M9B         Etobicoke   \n26       M9B         Etobicoke   \n27       M1C       Scarborough   \n28       M1C       Scarborough   \n29       M1C       Scarborough   \n31       M3C        North York   \n32       M3C        North York   \n33       M4C         East York   \n34       M5C  Downtown Toronto   \n35       M6C              York   \n38       M9C         Etobicoke   \n..       ...               ...   \n229      M9V         Etobicoke   \n230      M9V         Etobicoke   \n231      M9V         Etobicoke   \n232      M9V         Etobicoke   \n236      M1W       Scarborough   \n239      M4W  Downtown Toronto   \n240      M5W  Downtown Toronto   \n243      M8W         Etobicoke   \n244      M8W         Etobicoke   \n245      M9W         Etobicoke   \n246      M1X       Scarborough   \n249      M4X  Downtown Toronto   \n250      M4X  Downtown Toronto   \n251      M5X  Downtown Toronto   \n252      M5X  Downtown Toronto   \n255      M8X         Etobicoke   \n256      M8X         Etobicoke   \n257      M8X         Etobicoke   \n262      M4Y  Downtown Toronto   \n265      M7Y      East Toronto   \n266      M8Y         Etobicoke   \n267      M8Y         Etobicoke   \n268      M8Y         Etobicoke   \n269      M8Y         Etobicoke   \n270      M8Y         Etobicoke   \n282      M8Z         Etobicoke   \n283      M8Z         Etobicoke   \n284      M8Z         Etobicoke   \n285      M8Z         Etobicoke   \n286      M8Z         Etobicoke   \n\n                                          Neighborhood  \n2                                            Parkwoods  \n3                                     Victoria Village  \n4                                         Harbourfront  \n5                                          Regent Park  \n6                                     Lawrence Heights  \n7                                       Lawrence Manor  \n8                                         Not assigned  \n10                                    Islington Avenue  \n11                                               Rouge  \n12                                             Malvern  \n14                                     Don Mills North  \n15                                    Woodbine Gardens  \n16                                       Parkview Hill  \n17                                             Ryerson  \n18                                     Garden District  \n19                                           Glencairn  \n22                                          Cloverdale  \n23                                           Islington  \n24                                        Martin Grove  \n25                                    Princess Gardens  \n26                                     West Deane Park  \n27                                      Highland Creek  \n28                                          Rouge Hill  \n29                                          Port Union  \n31                                     Flemingdon Park  \n32                                     Don Mills South  \n33                                    Woodbine Heights  \n34                                      St. James Town  \n35                                  Humewood-Cedarvale  \n38                                   Bloordale Gardens  \n..                                                 ...  \n229                                   Beaumond Heights  \n230                                         Humbergate  \n231                                          Jamestown  \n232                                        Mount Olive  \n236                                    L'Amoreaux West  \n239                                           Rosedale  \n240                    Stn A PO Boxes 25 The Esplanade  \n243                                          Alderwood  \n244                                        Long Branch  \n245                                          Northwest  \n246                                        Upper Rouge  \n249                                        Cabbagetown  \n250                                     St. James Town  \n251                               First Canadian Place  \n252                                   Underground city  \n255                                       The Kingsway  \n256                                    Montgomery Road  \n257                                     Old Mill North  \n262                               Church and Wellesley  \n265  Business Reply Mail Processing Centre 969 Eastern  \n266                                         Humber Bay  \n267                                   King's Mill Park  \n268                           Kingsway Park South East  \n269                                          Mimico NE  \n270                                     Old Mill South  \n282                           Kingsway Park South West  \n283                                          Mimico NW  \n284                                 The Queensway West  \n285                              Royal York South West  \n286                                     South of Bloor  \n\n[203 rows x 3 columns]"
                    }, 
                    "output_type": "execute_result"
                }
            ], 
            "source": "neighborhoodsGroupByPostcode = neighborhoods.groupby(['Postcode', 'Borough'])\nneighborhoodsGroupByPostcode.head()"
        }, 
        {
            "source": "Merge the rows with the same Postcode by joining the Neighborhoods", 
            "cell_type": "markdown", 
            "metadata": {}
        }, 
        {
            "execution_count": 126, 
            "cell_type": "code", 
            "metadata": {}, 
            "outputs": [
                {
                    "execution_count": 126, 
                    "metadata": {}, 
                    "data": {
                        "text/html": "<div>\n<style scoped>\n    .dataframe tbody tr th:only-of-type {\n        vertical-align: middle;\n    }\n\n    .dataframe tbody tr th {\n        vertical-align: top;\n    }\n\n    .dataframe thead th {\n        text-align: right;\n    }\n</style>\n<table border=\"1\" class=\"dataframe\">\n  <thead>\n    <tr style=\"text-align: right;\">\n      <th></th>\n      <th>Postcode</th>\n      <th>Borough</th>\n      <th>Neighborhood</th>\n    </tr>\n  </thead>\n  <tbody>\n    <tr>\n      <th>0</th>\n      <td>M1B</td>\n      <td>Scarborough</td>\n      <td>Rouge, Malvern</td>\n    </tr>\n    <tr>\n      <th>1</th>\n      <td>M1C</td>\n      <td>Scarborough</td>\n      <td>Highland Creek, Rouge Hill, Port Union</td>\n    </tr>\n    <tr>\n      <th>2</th>\n      <td>M1E</td>\n      <td>Scarborough</td>\n      <td>Guildwood, Morningside, West Hill</td>\n    </tr>\n    <tr>\n      <th>3</th>\n      <td>M1G</td>\n      <td>Scarborough</td>\n      <td>Woburn</td>\n    </tr>\n    <tr>\n      <th>4</th>\n      <td>M1H</td>\n      <td>Scarborough</td>\n      <td>Cedarbrae</td>\n    </tr>\n  </tbody>\n</table>\n</div>", 
                        "text/plain": "  Postcode      Borough                            Neighborhood\n0      M1B  Scarborough                          Rouge, Malvern\n1      M1C  Scarborough  Highland Creek, Rouge Hill, Port Union\n2      M1E  Scarborough       Guildwood, Morningside, West Hill\n3      M1G  Scarborough                                  Woburn\n4      M1H  Scarborough                               Cedarbrae"
                    }, 
                    "output_type": "execute_result"
                }
            ], 
            "source": "neighborhoods = neighborhoodsGroupByPostcode['Neighborhood'].apply(lambda x: ', '.join(x)).to_frame().reset_index()\nneighborhoods.head()"
        }, 
        {
            "source": "Set the Neighborhood to Borough\twhen not assigned", 
            "cell_type": "markdown", 
            "metadata": {}
        }, 
        {
            "execution_count": 138, 
            "cell_type": "code", 
            "metadata": {}, 
            "outputs": [
                {
                    "execution_count": 138, 
                    "metadata": {}, 
                    "data": {
                        "text/html": "<div>\n<style scoped>\n    .dataframe tbody tr th:only-of-type {\n        vertical-align: middle;\n    }\n\n    .dataframe tbody tr th {\n        vertical-align: top;\n    }\n\n    .dataframe thead th {\n        text-align: right;\n    }\n</style>\n<table border=\"1\" class=\"dataframe\">\n  <thead>\n    <tr style=\"text-align: right;\">\n      <th></th>\n      <th>Postcode</th>\n      <th>Borough</th>\n      <th>Neighborhood</th>\n    </tr>\n  </thead>\n  <tbody>\n    <tr>\n      <th>0</th>\n      <td>M1B</td>\n      <td>Scarborough</td>\n      <td>Rouge, Malvern</td>\n    </tr>\n    <tr>\n      <th>1</th>\n      <td>M1C</td>\n      <td>Scarborough</td>\n      <td>Highland Creek, Rouge Hill, Port Union</td>\n    </tr>\n    <tr>\n      <th>2</th>\n      <td>M1E</td>\n      <td>Scarborough</td>\n      <td>Guildwood, Morningside, West Hill</td>\n    </tr>\n    <tr>\n      <th>3</th>\n      <td>M1G</td>\n      <td>Scarborough</td>\n      <td>Woburn</td>\n    </tr>\n    <tr>\n      <th>4</th>\n      <td>M1H</td>\n      <td>Scarborough</td>\n      <td>Cedarbrae</td>\n    </tr>\n  </tbody>\n</table>\n</div>", 
                        "text/plain": "  Postcode      Borough                            Neighborhood\n0      M1B  Scarborough                          Rouge, Malvern\n1      M1C  Scarborough  Highland Creek, Rouge Hill, Port Union\n2      M1E  Scarborough       Guildwood, Morningside, West Hill\n3      M1G  Scarborough                                  Woburn\n4      M1H  Scarborough                               Cedarbrae"
                    }, 
                    "output_type": "execute_result"
                }
            ], 
            "source": "neighborhoods.loc[neighborhoods['Neighborhood'] == 'Not assigned', 'Neighborhood'] = neighborhoods['Borough']\nneighborhoods.head()"
        }, 
        {
            "source": "The final shape of the data frame is:", 
            "cell_type": "markdown", 
            "metadata": {}
        }, 
        {
            "execution_count": 136, 
            "cell_type": "code", 
            "metadata": {}, 
            "outputs": [
                {
                    "execution_count": 136, 
                    "metadata": {}, 
                    "data": {
                        "text/plain": "(103, 3)"
                    }, 
                    "output_type": "execute_result"
                }
            ], 
            "source": "neighborhoods.shape"
        }
    ], 
    "metadata": {
        "kernelspec": {
            "display_name": "Python 3.6", 
            "name": "python3", 
            "language": "python"
        }, 
        "language_info": {
            "mimetype": "text/x-python", 
            "nbconvert_exporter": "python", 
            "version": "3.6.8", 
            "name": "python", 
            "file_extension": ".py", 
            "pygments_lexer": "ipython3", 
            "codemirror_mode": {
                "version": 3, 
                "name": "ipython"
            }
        }
    }, 
    "nbformat": 4
}